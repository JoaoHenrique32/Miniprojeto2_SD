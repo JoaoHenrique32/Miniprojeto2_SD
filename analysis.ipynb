{
 "cells": [
  {
   "cell_type": "code",
   "execution_count": 4,
   "metadata": {},
   "outputs": [
    {
     "ename": "ModuleNotFoundError",
     "evalue": "No module named 'pandas'",
     "output_type": "error",
     "traceback": [
      "\u001b[1;31m---------------------------------------------------------------------------\u001b[0m",
      "\u001b[1;31mModuleNotFoundError\u001b[0m                       Traceback (most recent call last)",
      "Cell \u001b[1;32mIn[4], line 1\u001b[0m\n\u001b[1;32m----> 1\u001b[0m \u001b[38;5;28;01mimport\u001b[39;00m \u001b[38;5;21;01mpandas\u001b[39;00m \u001b[38;5;28;01mas\u001b[39;00m \u001b[38;5;21;01mpd\u001b[39;00m\n\u001b[0;32m      2\u001b[0m \u001b[38;5;28;01mimport\u001b[39;00m \u001b[38;5;21;01mmatplotlib\u001b[39;00m\u001b[38;5;21;01m.\u001b[39;00m\u001b[38;5;21;01mpyplot\u001b[39;00m \u001b[38;5;28;01mas\u001b[39;00m \u001b[38;5;21;01mplt\u001b[39;00m\n\u001b[0;32m      4\u001b[0m \u001b[38;5;66;03m# Exemplo de carregamento dos logs da simulação\u001b[39;00m\n",
      "\u001b[1;31mModuleNotFoundError\u001b[0m: No module named 'pandas'"
     ]
    }
   ],
   "source": [
    "import pandas as pd\n",
    "import matplotlib.pyplot as plt\n",
    "\n",
    "# Exemplo de carregamento dos logs da simulação\n",
    "production_log = [(0, 0, 1), (1, 0, 2), (2, 1, 3)]  # Substituir pelos logs reais\n",
    "consumption_log = [(1, 0, 2), (2, 1, 1), (3, 2, 0)]  # Substituir pelos logs reais\n",
    "\n",
    "# Criação de DataFrames\n",
    "prod_df = pd.DataFrame(production_log, columns=[\"Timestep\", \"ProducerID\", \"BufferOccupancy\"])\n",
    "cons_df = pd.DataFrame(consumption_log, columns=[\"Timestep\", \"ConsumerID\", \"BufferOccupancy\"])\n",
    "\n",
    "# Gráficos\n",
    "plt.plot(prod_df[\"Timestep\"], prod_df[\"BufferOccupancy\"], label=\"Produção\")\n",
    "plt.plot(cons_df[\"Timestep\"], cons_df[\"BufferOccupancy\"], label=\"Consumo\")\n",
    "plt.xlabel(\"Timestep\")\n",
    "plt.ylabel(\"Itens no Buffer\")\n",
    "plt.title(\"Evolução do Buffer ao Longo do Tempo\")\n",
    "plt.legend()\n",
    "plt.show()\n",
    "\n",
    "# Análise\n",
    "prod_total = len(prod_df)\n",
    "cons_total = len(cons_df)\n",
    "print(f\"Total Produzido: {prod_total}, Total Consumido: {cons_total}\")\n"
   ]
  }
 ],
 "metadata": {
  "kernelspec": {
   "display_name": "Python 3",
   "language": "python",
   "name": "python3"
  },
  "language_info": {
   "codemirror_mode": {
    "name": "ipython",
    "version": 3
   },
   "file_extension": ".py",
   "mimetype": "text/x-python",
   "name": "python",
   "nbconvert_exporter": "python",
   "pygments_lexer": "ipython3",
   "version": "3.11.9"
  }
 },
 "nbformat": 4,
 "nbformat_minor": 2
}
